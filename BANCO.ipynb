{
 "cells": [
  {
   "cell_type": "code",
   "execution_count": null,
   "id": "4e5ec2ad",
   "metadata": {},
   "outputs": [],
   "source": [
    "\"\"\"\n",
    "BANCO.ipynb\n",
    "\n",
    "Este notebook realiza a consulta de dados diários sobre o dinheiro em circulação\n",
    "no Brasil utilizando a API do Banco Central (Olinda API). \n",
    "\n",
    "Funcionalidades:\n",
    "- Requisição HTTP GET para obter informações sobre Data, Quantidade, Valor, \n",
    "  Denominação e Espécie do dinheiro em circulação.\n",
    "- Conversão do resultado JSON em um DataFrame do pandas.\n",
    "- Exibição da tabela organizada para análise rápida.\n",
    "\n",
    "Dependências:\n",
    "- pandas\n",
    "- requests\n",
    "- pprint (opcional, para exibição formatada do JSON)\n",
    "\"\"\""
   ]
  },
  {
   "cell_type": "code",
   "execution_count": 2,
   "id": "d31f55c8",
   "metadata": {},
   "outputs": [
    {
     "name": "stdout",
     "output_type": "stream",
     "text": [
      "{'@odata.context': 'https://was-p.bcnet.bcb.gov.br/olinda/servico/mecir_dinheiro_em_circulacao/versao/v1/odata$metadata#informacoes_diarias(Data,Quantidade,Valor,Denominacao,Especie)',\n",
      " 'value': [{'Data': '1994-10-03',\n",
      "            'Denominacao': '0.01',\n",
      "            'Especie': 'Moedas',\n",
      "            'Quantidade': 692701959,\n",
      "            'Valor': 6927019.59},\n",
      "           {'Data': '1994-10-03',\n",
      "            'Denominacao': '0.05',\n",
      "            'Especie': 'Moedas',\n",
      "            'Quantidade': 462277579,\n",
      "            'Valor': 23113878.95}]}\n"
     ]
    }
   ],
   "source": [
    "import requests\n",
    "from pprint import pprint\n",
    "\n",
    "url = \"https://olinda.bcb.gov.br/olinda/servico/mecir_dinheiro_em_circulacao/versao/v1/odata/informacoes_diarias?$top=2&$format=json&$select=Data,Quantidade,Valor,Denominacao,Especie\"\n",
    "\n",
    "requisicao = requests.get(url)\n",
    "informacoes = requisicao.json()\n",
    "\n",
    "pprint(informacoes)"
   ]
  },
  {
   "cell_type": "code",
   "execution_count": 3,
   "id": "e07c6cf2",
   "metadata": {},
   "outputs": [
    {
     "data": {
      "text/html": [
       "<div>\n",
       "<style scoped>\n",
       "    .dataframe tbody tr th:only-of-type {\n",
       "        vertical-align: middle;\n",
       "    }\n",
       "\n",
       "    .dataframe tbody tr th {\n",
       "        vertical-align: top;\n",
       "    }\n",
       "\n",
       "    .dataframe thead th {\n",
       "        text-align: right;\n",
       "    }\n",
       "</style>\n",
       "<table border=\"1\" class=\"dataframe\">\n",
       "  <thead>\n",
       "    <tr style=\"text-align: right;\">\n",
       "      <th></th>\n",
       "      <th>Data</th>\n",
       "      <th>Quantidade</th>\n",
       "      <th>Valor</th>\n",
       "      <th>Denominacao</th>\n",
       "      <th>Especie</th>\n",
       "    </tr>\n",
       "  </thead>\n",
       "  <tbody>\n",
       "    <tr>\n",
       "      <th>0</th>\n",
       "      <td>1994-10-03</td>\n",
       "      <td>692701959</td>\n",
       "      <td>6927019.59</td>\n",
       "      <td>0.01</td>\n",
       "      <td>Moedas</td>\n",
       "    </tr>\n",
       "    <tr>\n",
       "      <th>1</th>\n",
       "      <td>1994-10-03</td>\n",
       "      <td>462277579</td>\n",
       "      <td>23113878.95</td>\n",
       "      <td>0.05</td>\n",
       "      <td>Moedas</td>\n",
       "    </tr>\n",
       "  </tbody>\n",
       "</table>\n",
       "</div>"
      ],
      "text/plain": [
       "         Data  Quantidade        Valor Denominacao Especie\n",
       "0  1994-10-03   692701959   6927019.59        0.01  Moedas\n",
       "1  1994-10-03   462277579  23113878.95        0.05  Moedas"
      ]
     },
     "metadata": {},
     "output_type": "display_data"
    }
   ],
   "source": [
    "import pandas as pd\n",
    "\n",
    "tabela = pd.DataFrame(informacoes[\"value\"])\n",
    "display(tabela)"
   ]
  }
 ],
 "metadata": {
  "kernelspec": {
   "display_name": "Python 3",
   "language": "python",
   "name": "python3"
  },
  "language_info": {
   "codemirror_mode": {
    "name": "ipython",
    "version": 3
   },
   "file_extension": ".py",
   "mimetype": "text/x-python",
   "name": "python",
   "nbconvert_exporter": "python",
   "pygments_lexer": "ipython3",
   "version": "3.12.10"
  }
 },
 "nbformat": 4,
 "nbformat_minor": 5
}
